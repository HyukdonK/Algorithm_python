{
  "nbformat": 4,
  "nbformat_minor": 0,
  "metadata": {
    "colab": {
      "provenance": [],
      "toc_visible": true,
      "authorship_tag": "ABX9TyNSUU3mg65aN06oY1saZFN5",
      "include_colab_link": true
    },
    "kernelspec": {
      "name": "python3",
      "display_name": "Python 3"
    },
    "language_info": {
      "name": "python"
    }
  },
  "cells": [
    {
      "cell_type": "markdown",
      "metadata": {
        "id": "view-in-github",
        "colab_type": "text"
      },
      "source": [
        "<a href=\"https://colab.research.google.com/github/HyukdonK/Algorithm_python/blob/main/%EC%95%8C%EA%B3%A0%EB%A6%AC%EC%A6%98_%EC%9E%90%EB%A3%8C%EA%B5%AC%EC%A1%B0_01.ipynb\" target=\"_parent\"><img src=\"https://colab.research.google.com/assets/colab-badge.svg\" alt=\"Open In Colab\"/></a>"
      ]
    },
    {
      "cell_type": "markdown",
      "source": [
        "# **1-1알고리즘이란?**"
      ],
      "metadata": {
        "id": "0ZsJxL25hYZf"
      }
    },
    {
      "cell_type": "markdown",
      "source": [
        "##1-1-1세 정수를 입력받아 최댁값 구하기"
      ],
      "metadata": {
        "id": "GUXJ3Giwi7Zt"
      }
    },
    {
      "cell_type": "code",
      "source": [
        "\n",
        "print(' 세 정수의 최댓값을 구합니다.')\n",
        "a = int(input('정수 a의 값을 입력하시오'))\n",
        "b = int(input('정수 b의 값을 입력하시오'))\n",
        "c = int(input('정수 c의 값을 입력하시오'))\n",
        "\n",
        "maximum = a                       # maximum에 a값을 대입\n",
        "if b > maximum : maximum = b      # b의 값이 maximum보다 크면, maximum에 b의 값을 대입\n",
        "if c > maximum : maximum = c      # c의 값이 maximum 보다 크면, maximum에 c의 값을 대입\n",
        "\n",
        "print(f'최댓값은 {maximum}입니다.')"
      ],
      "metadata": {
        "colab": {
          "base_uri": "https://localhost:8080/"
        },
        "id": "pc2gBM8DhZp2",
        "outputId": "500c4e82-56c4-4555-ef88-2b4f913ec2bc"
      },
      "execution_count": 3,
      "outputs": [
        {
          "output_type": "stream",
          "name": "stdout",
          "text": [
            " 세 정수의 최댓값을 구합니다.\n",
            "정수 a의 값을 입력하시오1\n",
            "정수 b의 값을 입력하시오3\n",
            "정수 c의 값을 입력하시오2\n",
            "최댓값은 3입니다.\n"
          ]
        }
      ]
    },
    {
      "cell_type": "markdown",
      "source": [
        "**input()함수는 문자열을 반환하므로 문자열을 10진수 정수형으로 반환해야 합니다. 이떄 int()함수를 사용합니다.**\n",
        "\n",
        "\n"
      ],
      "metadata": {
        "id": "YrkTlu8AkMFA"
      }
    },
    {
      "cell_type": "markdown",
      "source": [
        "## 1-1-2문자열과 숫자 입력받기"
      ],
      "metadata": {
        "id": "TW4fG0F2jA9B"
      }
    },
    {
      "cell_type": "code",
      "execution_count": 8,
      "metadata": {
        "colab": {
          "base_uri": "https://localhost:8080/"
        },
        "id": "gasMDPhNhXIP",
        "outputId": "def3b675-7188-4760-c375-ad24c6679a43"
      },
      "outputs": [
        {
          "output_type": "stream",
          "name": "stdout",
          "text": [
            "이름을 입력하세요 : \n",
            "권혁돈\n",
            "안녕하세요! 권혁돈입니다\n"
          ]
        }
      ],
      "source": [
        "# 이름을 입력받아 인사하기 \n",
        "\n",
        "print('이름을 입력하세요 : ', end = '')\n",
        "\n",
        "name = input()\n",
        "\n",
        "print(f'안녕하세요! {name}입니다')"
      ]
    },
    {
      "cell_type": "markdown",
      "source": [
        "## 1-1-3세 정수의 중앙값을 구하기 "
      ],
      "metadata": {
        "id": "E_gsrjSDmFWa"
      }
    },
    {
      "cell_type": "code",
      "source": [
        "def med(a, b, c):\n",
        "  if a >= b:\n",
        "    if b >= c:\n",
        "      return b\n",
        "    elif a <= c:\n",
        "      return a\n",
        "    else :\n",
        "      return c  \n",
        "  elif a > c:\n",
        "    return a\n",
        "  elif b > c:\n",
        "    return c\n",
        "  else:\n",
        "    return b\n",
        "print('세 정수의 중앙값을 구합니다.')\n",
        "a = int(input('정수 a의 값을 입력하세요'))\n",
        "b = int(input('정수 b의 값을 입력하세요'))\n",
        "c = int(input('정수 c의 값을 입력하세요'))\n",
        "\n",
        "print(f'중앙값은 {med(a,b,c)}입니다')\n",
        "\n",
        "\n"
      ],
      "metadata": {
        "colab": {
          "base_uri": "https://localhost:8080/"
        },
        "id": "YeFqz8awmzqo",
        "outputId": "26e033c8-5a68-4bd6-d646-2fc0fa302308"
      },
      "execution_count": 14,
      "outputs": [
        {
          "output_type": "stream",
          "name": "stdout",
          "text": [
            "세 정수의 중앙값을 구합니다.\n",
            "정수 a의 값을 입력하세요1\n",
            "정수 b의 값을 입력하세요3\n",
            "정수 c의 값을 입력하세요1\n",
            "중앙값은 1입니다\n"
          ]
        }
      ]
    },
    {
      "cell_type": "markdown",
      "source": [
        "# **1-2 반복하는 알고리즘**"
      ],
      "metadata": {
        "id": "it_QWAZPpjuY"
      }
    },
    {
      "cell_type": "markdown",
      "source": [
        "## 1-2-1 1부터 n까지 정수의 합 구하기"
      ],
      "metadata": {
        "id": "I1YFUkiXprMv"
      }
    },
    {
      "cell_type": "code",
      "source": [
        "# 1부터 n까지 정수의 합 구하기(while 문)\n",
        "\n",
        "print('1부터 n까지 정수의 합을 구합니다.')\n",
        "n = int(input('n값을 입력하세요')) \n",
        "\n",
        "sum = 0                 # 합을 구하는 준비 단계입니다. 합을 저장하는 sum값을 0으로,\n",
        "i =1                    # 반복을 제어하는 i값을 1로 초기화 합니다.\n",
        "\n",
        "while i <= n:       # i가 n보다 작거나 같은 동안 반복\n",
        "  sum += i          # sum에 i를 더함\n",
        "  i += 1            # i에 1을 더함\n",
        "\n",
        "print(f'1부터 {n}까지 정수의 합은 {sum}입니다.')"
      ],
      "metadata": {
        "colab": {
          "base_uri": "https://localhost:8080/"
        },
        "id": "Jsie8MIepuKA",
        "outputId": "787b5ca3-c106-4379-e787-e9d9761eba68"
      },
      "execution_count": 16,
      "outputs": [
        {
          "output_type": "stream",
          "name": "stdout",
          "text": [
            "1부터 n까지 정수의 합을 구합니다.\n",
            "n값을 입력하세요13\n",
            "1부터 13까지 정수의 합은 91입니다.\n"
          ]
        }
      ]
    },
    {
      "cell_type": "code",
      "source": [
        "# 1부터 n까지 정수의 합 구하기 2(for문)\n",
        "\n",
        "print('1부터 n까지 정수의 합을 구합니다.')\n",
        "n = int(input('n값을 입력하세요')) \n",
        "\n",
        "sum = 0                 # 합을 구하는 준비 단계입니다. 합을 저장하는 sum값을 0으로,\n",
        "\n",
        "for i in range(1, n+1):\n",
        "  sum += i\n",
        "\n",
        "print(f'1부터 {n}까지 정수의 합은 {sum}입니다.')"
      ],
      "metadata": {
        "colab": {
          "base_uri": "https://localhost:8080/"
        },
        "id": "CMu1ZBdksjeC",
        "outputId": "716c30bb-4d60-47cb-a9b8-8168f1f266a7"
      },
      "execution_count": 18,
      "outputs": [
        {
          "output_type": "stream",
          "name": "stdout",
          "text": [
            "1부터 n까지 정수의 합을 구합니다.\n",
            "n값을 입력하세요13\n",
            "1부터 13까지 정수의 합은 91입니다.\n"
          ]
        }
      ]
    },
    {
      "cell_type": "markdown",
      "source": [
        "### range() 함수로 이터러블 객체 생성하기 \n",
        "\n",
        "\n",
        "\n",
        "*   range(n)   -> 0 이상 n 미만인 수를 차례로 나영하는 수열\n",
        "*   ranege(a, b) -> a 이상 n 미만인 수를 차례로 나영하는 수열\n",
        "*   ranege(a, b, step) -> a 이상 n 미만인 수를 step간격으로 나영하는 수열\n",
        "\n",
        "\n",
        "\n"
      ],
      "metadata": {
        "id": "kGzGsLucszWJ"
      }
    },
    {
      "cell_type": "markdown",
      "source": [
        "### 가우스의 덧셈으로도 1부터 n까지의 정수의 합을 구할 수 있습니다.\n",
        "\n",
        "\n",
        "```\n",
        "sum = n * (n + 1) // 2\n",
        "```\n",
        "\n"
      ],
      "metadata": {
        "id": "jelip0iZ3ao7"
      }
    },
    {
      "cell_type": "markdown",
      "source": [
        "## 1-2-2 연속하는 정수의 합을 구하기 위해 값 정렬하기"
      ],
      "metadata": {
        "id": "S3Gzx_jx5AEi"
      }
    },
    {
      "cell_type": "code",
      "source": [
        "# a부터 b까지 정수의 합 구하기(for 문)\n",
        "print('a부터 b까지 정수의 합을 구합니다.')\n",
        "a = int(input('정수 a를 입력하세요'))\n",
        "b = int(input('정수 b를 입력하세요'))\n",
        "\n",
        "if a > b:\n",
        "  a, b = b, a     # a와 b를 오름차순 정렬 # a와 b의 값을 교환\n",
        "sum = 0\n",
        "for i in range(a, b+1):\n",
        "  sum +=i\n",
        "\n",
        "print(f'{a}부터 {b} 까지 정수의 합은 {sum}입니다.')"
      ],
      "metadata": {
        "colab": {
          "base_uri": "https://localhost:8080/"
        },
        "id": "-zdC_OD8tcPi",
        "outputId": "46f2ccbf-1979-4e90-a756-c6279a92a3ec"
      },
      "execution_count": 21,
      "outputs": [
        {
          "output_type": "stream",
          "name": "stdout",
          "text": [
            "a부터 b까지 정수의 합을 구합니다.\n",
            "정수 a를 입력하세요8\n",
            "정수 b를 입력하세요3\n",
            "3 8\n",
            "3부터 8 까지 정수의 합은 33입니다.\n"
          ]
        }
      ]
    },
    {
      "cell_type": "markdown",
      "source": [
        "## 1-2-3 반복 과정에서 조건 판단하기 "
      ],
      "metadata": {
        "id": "jwhmKyZD8jeI"
      }
    },
    {
      "cell_type": "code",
      "source": [
        "# a부터 b까지 정수의 합 구하기\n",
        "\n",
        "print('a부터 b까지 정수의 합을 구합니다')\n",
        "a = int(input('정수 a를 입력하세요.:'))\n",
        "b = int(input('정수 b를 입력하세요.:'))\n",
        "\n",
        "if a > b:\n",
        "  a, b = b, a \n",
        "\n",
        "sum = 0\n",
        "\n",
        "for i in range(a, b + 1):\n",
        "  if i < b:\n",
        "    print(f'{i} +', end ='') # 1. 진행중인값 : 수 뒤에 + 를 출력합니다.\n",
        "  else:\n",
        "    print(f'{i} = ', end = '') # 2. 최종값 : 수 뒤에 =를 출력합니다.\n",
        "  sum += i\n",
        "\n",
        "print(sum)"
      ],
      "metadata": {
        "colab": {
          "base_uri": "https://localhost:8080/"
        },
        "id": "fVJRO9xd8m3G",
        "outputId": "2346512d-a37b-4d1c-adb7-2e0ea075a239"
      },
      "execution_count": 31,
      "outputs": [
        {
          "output_type": "stream",
          "name": "stdout",
          "text": [
            "a부터 b까지 정수의 합을 구합니다\n",
            "정수 a를 입력하세요.:3\n",
            "정수 b를 입력하세요.:10\n",
            "3 +4 +5 +6 +7 +8 +9 +10 = 52\n"
          ]
        }
      ]
    },
    {
      "cell_type": "markdown",
      "source": [
        "## 1-2-4 두 값 교환하기  "
      ],
      "metadata": {
        "id": "p-GbSUgUHZDQ"
      }
    },
    {
      "cell_type": "code",
      "source": [
        "# + 와 -를 번갈아 출력하기\n",
        "\n",
        "print('+ 와 -를 번갈아 출력하기')\n",
        "\n",
        "n = int(input('몇 개를 출력할까요?: '))\n",
        "for i in range(n):\n",
        "  if i % 2:\n",
        "    print('-', end = '')  # 홀수인 경우 - 출력\n",
        "  else:\n",
        "    print('+', end = '')  # 짝수인 경우 + 출력\n",
        "\n",
        "print()"
      ],
      "metadata": {
        "colab": {
          "base_uri": "https://localhost:8080/"
        },
        "id": "DZemg74oHT-9",
        "outputId": "99b212aa-e43e-4f85-a51c-3292598f9f5d"
      },
      "execution_count": 35,
      "outputs": [
        {
          "output_type": "stream",
          "name": "stdout",
          "text": [
            "+ 와 -를 번갈아 출력하기\n",
            "몇 개를 출력할까요?: 5\n",
            "+-+-+\n"
          ]
        }
      ]
    },
    {
      "cell_type": "code",
      "source": [
        "# + 와 -를 번갈아 출력하기2(for문 수정)\n",
        "\n",
        "print('+ 와 -를 번갈아 출력하기')\n",
        "\n",
        "n = int(input('몇 개를 출력할까요?: '))\n",
        "for i in range(1, n + 1):\n",
        "  if i % 2:\n",
        "    print('-', end = '')  # 홀수인 경우 - 출력\n",
        "  else:\n",
        "    print('+', end = '')  # 짝수인 경우 + 출력\n",
        "\n",
        "print()"
      ],
      "metadata": {
        "colab": {
          "base_uri": "https://localhost:8080/"
        },
        "id": "WOtIrHBNJ3GZ",
        "outputId": "7fa5ec01-9221-41fa-d626-6d93768534dd"
      },
      "execution_count": 37,
      "outputs": [
        {
          "output_type": "stream",
          "name": "stdout",
          "text": [
            "+ 와 -를 번갈아 출력하기\n",
            "몇 개를 출력할까요?: 5\n",
            "-+-+-\n"
          ]
        }
      ]
    },
    {
      "cell_type": "code",
      "source": [
        "# + 와 -를 번갈아 출력하기3\n",
        "\n",
        "print('+ 와 -를 번갈아 출력하기')\n",
        "\n",
        "n = int(input('몇 개를 출력할까요?: '))\n",
        "\n",
        "for _ in range(n // 2):\n",
        "    print('+-', end = '')  # +-를 n//2개의 출력\n",
        "\n",
        "if n % 2:\n",
        "  print('+', end='')       # n이 홀수일떄만 +를 출력\n",
        "print()"
      ],
      "metadata": {
        "colab": {
          "base_uri": "https://localhost:8080/"
        },
        "id": "B6XVo1PUN29M",
        "outputId": "24cc0f49-dbe6-4714-cb4c-c9e7fb0d560f"
      },
      "execution_count": 55,
      "outputs": [
        {
          "output_type": "stream",
          "name": "stdout",
          "text": [
            "+ 와 -를 번갈아 출력하기\n",
            "몇 개를 출력할까요?: 13\n",
            "+-+-+-+-+-+-+\n"
          ]
        }
      ]
    },
    {
      "cell_type": "markdown",
      "source": [
        "for문에서 언더스코어(_)를 사용한 이유는 for 문에서 range() 함수가 for문을 순환하며 반환하는 값(인덱스)을 사용할 필요가 없기 때문이다."
      ],
      "metadata": {
        "id": "Slrzsw7nUHqZ"
      }
    },
    {
      "cell_type": "markdown",
      "source": [
        "### 1-2-5 반복 과정에서 조건 판단하기"
      ],
      "metadata": {
        "id": "_b5C5hjZeYLy"
      }
    },
    {
      "cell_type": "code",
      "source": [
        "# *를 n개 출력하되 w개마다 줄바꿈하기 1\n",
        "print('*를 출력합니다.')\n",
        "n = int(input('몇개를 출력할까요? : '))\n",
        "w = int(input('몇개를 줄바꿈할까요? : '))\n",
        "\n",
        "for i in range(n):        # n번 바꿈\n",
        "  print('*', end = '')\n",
        "  if i % w == w - 1:      # n번 판단    # i 를 w 로 나눈 나머지가 W-1일떼 줄바꿈.\n",
        "    print()               # 줄바꿈      # 즉 w가 5이면 4,9,14일때 줄바꿈\n",
        "\n",
        "if  n % w :               # 1번 판단\n",
        "  print()                 # 줄바꿈"
      ],
      "metadata": {
        "colab": {
          "base_uri": "https://localhost:8080/"
        },
        "id": "qbpIS8jkedLJ",
        "outputId": "f9c2c205-7299-4fd4-e580-bff6154ca8c9"
      },
      "execution_count": 58,
      "outputs": [
        {
          "output_type": "stream",
          "name": "stdout",
          "text": [
            "*를 출력합니다.\n",
            "몇개를 출력할까요? : 18\n",
            "몇개를 줄바꿈할까요? : 6\n",
            "******\n",
            "******\n",
            "******\n"
          ]
        }
      ]
    },
    {
      "cell_type": "code",
      "source": [
        "# *를 n개 출력하되 w개마다 줄바꿈하기 2\n",
        "print('*를 출력합니다.')\n",
        "n = int(input('몇개를 출력할까요? : '))\n",
        "w = int(input('몇개를 줄바꿈할까요? : '))\n",
        " \n",
        "for _ in range(n // w):\n",
        "  print('*' * w)\n",
        "\n",
        "rest = n % w\n",
        "if rest :            # if문 판단 1번\n",
        "  print('*' * rest)\n",
        "          "
      ],
      "metadata": {
        "colab": {
          "base_uri": "https://localhost:8080/"
        },
        "id": "XEK3wLJ3Ujxl",
        "outputId": "654db30b-50c0-4da3-95b7-5d7133a7115c"
      },
      "execution_count": 60,
      "outputs": [
        {
          "output_type": "stream",
          "name": "stdout",
          "text": [
            "*를 출력합니다.\n",
            "몇개를 출력할까요? : 16\n",
            "몇개를 줄바꿈할까요? : 5\n",
            "*****\n",
            "*****\n",
            "*****\n",
            "*\n"
          ]
        }
      ]
    },
    {
      "cell_type": "markdown",
      "source": [
        "### 1-2-6 양수만 입력받기"
      ],
      "metadata": {
        "id": "lt8XmU7liOXk"
      }
    },
    {
      "cell_type": "code",
      "source": [
        "# 1부터 n까지 정수의 합 구하기(n값은 양수만 입력받음)\n",
        "\n",
        "print('1부터 n까지 정수의 합을 구합니다.')\n",
        "\n",
        "while True:    # 양수만 입력받기 위한 조건반복\n",
        "  n = int(input('n값을 입력하세요 :'))\n",
        "  if n > 0:\n",
        "    break     # n이 0보다 커질때까지 반복\n",
        "\n",
        "sum = 0\n",
        "i = 1\n",
        "\n",
        "for i in range(1, n + 1):\n",
        "  sum += i                    # sum에 i 를 더함\n",
        "  i += 1\n",
        "\n",
        "print(f'1부터 {n}까지 정수의 합은 {sum}입니다.')  "
      ],
      "metadata": {
        "colab": {
          "base_uri": "https://localhost:8080/"
        },
        "id": "CPNQjFQ1iczX",
        "outputId": "cfe01447-a499-4c7c-a263-27f0a15fa0c4"
      },
      "execution_count": 63,
      "outputs": [
        {
          "output_type": "stream",
          "name": "stdout",
          "text": [
            "1부터 n까지 정수의 합을 구합니다.\n",
            "n값을 입력하세요 :8\n",
            "1부터 8까지 정수의 합은 36입니다.\n"
          ]
        }
      ]
    },
    {
      "cell_type": "code",
      "source": [
        "# 가로,세로 길이가 정수이고 넓이가 area인 직사각형의 변의 길이 나열하기\n",
        "area = int(input('직사각형의 넓이를 입력하세요 :'))\n",
        "\n",
        "for i in range(1, area + 1):\n",
        "  if i * i > area : break\n",
        "  if area % i : continue\n",
        "  print(f'{i} x {area // i}')"
      ],
      "metadata": {
        "colab": {
          "base_uri": "https://localhost:8080/"
        },
        "id": "WVe_wVV2j8a-",
        "outputId": "05ea4e86-3460-4c82-ffb3-2f4a771969e2"
      },
      "execution_count": 65,
      "outputs": [
        {
          "output_type": "stream",
          "name": "stdout",
          "text": [
            "직사각형의 넓이를 입력하세요 :20\n",
            "1\n",
            "1 x 20\n",
            "2\n",
            "2 x 10\n",
            "3\n",
            "4\n",
            "4 x 5\n",
            "5\n"
          ]
        }
      ]
    }
  ]
}